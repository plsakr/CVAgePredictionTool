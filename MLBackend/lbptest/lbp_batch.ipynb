{
 "cells": [
  {
   "cell_type": "code",
   "execution_count": 7,
   "metadata": {
    "collapsed": true
   },
   "outputs": [],
   "source": [
    "import numpy as np\n",
    "import pandas as pd\n",
    "import cv2\n",
    "import matplotlib.pyplot as plt\n",
    "import os\n",
    "from skimage import feature\n",
    "from tqdm import tqdm"
   ]
  },
  {
   "cell_type": "code",
   "execution_count": 8,
   "outputs": [],
   "source": [
    "class LocalBinaryPatterns:\n",
    "\tdef __init__(self, numPoints, radius):\n",
    "\t\t# store the number of points and radius\n",
    "\t\tself.numPoints = numPoints\n",
    "\t\tself.radius = radius\n",
    "\tdef describe(self, image, eps=1e-7):\n",
    "\t\t# compute the Local Binary Pattern representation\n",
    "\t\t# of the image, and then use the LBP representation\n",
    "\t\t# to build the histogram of patterns\n",
    "\t\tlbp = feature.local_binary_pattern(image, self.numPoints,\n",
    "\t\t\tself.radius, method=\"uniform\")\n",
    "\t\t(hist, _) = np.histogram(lbp.ravel(),\n",
    "\t\t\tbins=np.arange(0, self.numPoints + 3),\n",
    "\t\t\trange=(0, self.numPoints + 2))\n",
    "\t\t# normalize the histogram\n",
    "\t\thist = hist.astype(\"float\")\n",
    "\t\thist = hist / (hist.sum() + eps)\n",
    "\t\t# return the histogram of Local Binary Patterns\n",
    "\t\treturn hist"
   ],
   "metadata": {
    "collapsed": false,
    "pycharm": {
     "name": "#%%\n"
    }
   }
  },
  {
   "cell_type": "code",
   "execution_count": 9,
   "outputs": [
    {
     "output_type": "stream",
     "name": "stderr",
     "text": [
      "0it [00:00, ?it/s]\n",
      "0it [00:00, ?it/s]\n",
      "100%|██████████| 1410/1410 [00:00<00:00, 176863.71it/s]\n",
      "100%|██████████| 2581/2581 [00:00<00:00, 215094.65it/s]\n",
      "100%|██████████| 3329/3329 [00:00<00:00, 158578.51it/s]\n",
      "100%|██████████| 2988/2988 [00:00<00:00, 229904.98it/s]\n",
      "100%|██████████| 2239/2239 [00:00<00:00, 250001.24it/s]\n",
      "100%|██████████| 1311/1311 [00:00<00:00, 217840.60it/s]\n",
      "100%|██████████| 928/928 [00:00<00:00, 184592.34it/s]\n",
      "100%|██████████| 1018/1018 [00:00<00:00, 145429.21it/s]\n",
      "100%|██████████| 645/645 [00:00<00:00, 214861.89it/s]\n",
      "100%|██████████| 402/402 [00:00<00:00, 201062.51it/s]\n",
      "100%|██████████| 629/629 [00:00<00:00, 125839.12it/s]\n",
      "0it [00:00, ?it/s]\n",
      "100%|██████████| 841/841 [00:00<00:00, 105076.25it/s]\n",
      "100%|██████████| 718/718 [00:00<00:00, 359283.02it/s]\n",
      "100%|██████████| 3438/3438 [00:00<00:00, 229212.97it/s]\n",
      "100%|██████████| 3475/3475 [00:00<00:00, 231694.51it/s]\n",
      "100%|██████████| 2836/2836 [00:00<00:00, 218153.65it/s]\n",
      "100%|██████████| 1964/1964 [00:00<00:00, 196325.30it/s]\n",
      "100%|██████████| 1489/1489 [00:00<00:00, 135326.51it/s]\n",
      "100%|██████████| 1272/1272 [00:00<00:00, 158935.73it/s]\n",
      "100%|██████████| 1009/1009 [00:00<00:00, 126130.38it/s]\n",
      "100%|██████████| 663/663 [00:00<00:00, 165742.25it/s]\n",
      "100%|██████████| 1114/1114 [00:00<00:00, 159089.37it/s]\n"
     ]
    }
   ],
   "source": [
    "path = '../dataset' ## TODO: Change this to the path of your dataset. (The code will look through every subfolder for images)\n",
    "\n",
    "images = []\n",
    "for x, y, z in os.walk(path):\n",
    "    for name in tqdm(z):\n",
    "        images.append(os.path.join(x, name).replace('\\\\','/')) \n",
    "\n"
   ],
   "metadata": {
    "collapsed": false,
    "pycharm": {
     "name": "#%%\n"
    }
   }
  },
  {
   "cell_type": "code",
   "execution_count": 10,
   "outputs": [
    {
     "output_type": "stream",
     "name": "stderr",
     "text": [
      "100%|██████████| 36299/36299 [11:36<00:00, 52.13it/s]\n"
     ]
    }
   ],
   "source": [
    "lbp_df = pd.DataFrame()\n",
    "\n",
    "\n",
    "# the parameters of the LBP algo\n",
    "# higher = more time required\n",
    "sample_points = 16\n",
    "radius = 4\n",
    "\n",
    "# this code takes a while\n",
    "for i in tqdm(images):\n",
    "    img = cv2.imread(i)\n",
    "    lbp = LocalBinaryPatterns(sample_points, radius).describe(cv2.cvtColor(img, cv2.COLOR_BGR2GRAY))\n",
    "    row = dict(zip(range(0, len(lbp)), lbp))\n",
    "    row['ageRange'] = i.split('/')[3] ## TODO: change 3 to the index in the path where the age range is located\n",
    "    ## for example, mine was ../dataset/female/age_10_14/imagename => split by / => index 3\n",
    "    lbp_df = lbp_df.append(row, ignore_index=True)\n"
   ],
   "metadata": {
    "collapsed": false,
    "pycharm": {
     "name": "#%%\n"
    }
   }
  },
  {
   "cell_type": "code",
   "execution_count": 11,
   "metadata": {},
   "outputs": [
    {
     "output_type": "execute_result",
     "data": {
      "text/plain": [
       "0"
      ]
     },
     "metadata": {},
     "execution_count": 11
    }
   ],
   "source": [
    "# number of null values in our df. Should always be 0\n",
    "lbp_df[2].isna().sum()"
   ]
  },
  {
   "cell_type": "code",
   "execution_count": 12,
   "outputs": [
    {
     "output_type": "stream",
     "name": "stdout",
     "text": [
      "          0         1         2         3         4         5         6   \\\n0   1.000000  0.839920  0.194847 -0.241171 -0.481924 -0.641390 -0.702232   \n1   0.839920  1.000000  0.283541 -0.251165 -0.546574 -0.712553 -0.773238   \n2   0.194847  0.283541  1.000000  0.608972  0.164237 -0.169252 -0.305062   \n3  -0.241171 -0.251165  0.608972  1.000000  0.652527  0.296901  0.125215   \n4  -0.481924 -0.546574  0.164237  0.652527  1.000000  0.727826  0.536645   \n5  -0.641390 -0.712553 -0.169252  0.296901  0.727826  1.000000  0.831675   \n6  -0.702232 -0.773238 -0.305062  0.125215  0.536645  0.831675  1.000000   \n7  -0.802324 -0.815550 -0.382006  0.025795  0.358564  0.591807  0.792409   \n8  -0.806808 -0.763310 -0.342003  0.023474  0.280885  0.449906  0.613472   \n9  -0.838463 -0.806362 -0.259230  0.151666  0.340191  0.495613  0.573383   \n10 -0.561276 -0.572074 -0.026521  0.295059  0.383273  0.428561  0.402449   \n11 -0.306096 -0.316838  0.131106  0.318578  0.274692  0.239332  0.112828   \n12 -0.201880 -0.189184  0.315676  0.432233  0.306572  0.171796  0.012978   \n13 -0.104136 -0.056887  0.390972  0.401799  0.196755  0.046881 -0.122814   \n14  0.133615  0.211714  0.576278  0.407142  0.118337 -0.088589 -0.245400   \n15  0.782790  0.819490  0.219754 -0.213234 -0.451589 -0.572123 -0.649010   \n16  0.418755  0.401442 -0.015299 -0.247788 -0.365249 -0.385785 -0.443666   \n17  0.902470  0.884196  0.168048 -0.288115 -0.530647 -0.668619 -0.748701   \n\n          7         8         9         10        11        12        13  \\\n0  -0.802324 -0.806808 -0.838463 -0.561276 -0.306096 -0.201880 -0.104136   \n1  -0.815550 -0.763310 -0.806362 -0.572074 -0.316838 -0.189184 -0.056887   \n2  -0.382006 -0.342003 -0.259230 -0.026521  0.131106  0.315676  0.390972   \n3   0.025795  0.023474  0.151666  0.295059  0.318578  0.432233  0.401799   \n4   0.358564  0.280885  0.340191  0.383273  0.274692  0.306572  0.196755   \n5   0.591807  0.449906  0.495613  0.428561  0.239332  0.171796  0.046881   \n6   0.792409  0.613472  0.573383  0.402449  0.112828  0.012978 -0.122814   \n7   1.000000  0.909081  0.711483  0.304913 -0.037378 -0.122150 -0.221918   \n8   0.909081  1.000000  0.753452  0.296202 -0.029469 -0.087231 -0.164100   \n9   0.711483  0.753452  1.000000  0.715493  0.435921  0.281664  0.151391   \n10  0.304913  0.296202  0.715493  1.000000  0.784710  0.618222  0.367481   \n11 -0.037378 -0.029469  0.435921  0.784710  1.000000  0.813606  0.616752   \n12 -0.122150 -0.087231  0.281664  0.618222  0.813606  1.000000  0.762745   \n13 -0.221918 -0.164100  0.151391  0.367481  0.616752  0.762745  1.000000   \n14 -0.342405 -0.294517 -0.156868  0.012844  0.226410  0.409873  0.674836   \n15 -0.726421 -0.723745 -0.829713 -0.706045 -0.455019 -0.376723 -0.169732   \n16 -0.489730 -0.475715 -0.488026 -0.415609 -0.182348 -0.181332 -0.015413   \n17 -0.870119 -0.877469 -0.875193 -0.590228 -0.316625 -0.248252 -0.146136   \n\n          14        15        16        17  \n0   0.133615  0.782790  0.418755  0.902470  \n1   0.211714  0.819490  0.401442  0.884196  \n2   0.576278  0.219754 -0.015299  0.168048  \n3   0.407142 -0.213234 -0.247788 -0.288115  \n4   0.118337 -0.451589 -0.365249 -0.530647  \n5  -0.088589 -0.572123 -0.385785 -0.668619  \n6  -0.245400 -0.649010 -0.443666 -0.748701  \n7  -0.342405 -0.726421 -0.489730 -0.870119  \n8  -0.294517 -0.723745 -0.475715 -0.877469  \n9  -0.156868 -0.829713 -0.488026 -0.875193  \n10  0.012844 -0.706045 -0.415609 -0.590228  \n11  0.226410 -0.455019 -0.182348 -0.316625  \n12  0.409873 -0.376723 -0.181332 -0.248252  \n13  0.674836 -0.169732 -0.015413 -0.146136  \n14  1.000000  0.182145  0.028007  0.075234  \n15  0.182145  1.000000  0.492686  0.844907  \n16  0.028007  0.492686  1.000000  0.473563  \n17  0.075234  0.844907  0.473563  1.000000  \n"
     ]
    }
   ],
   "source": [
    "corrM = lbp_df.corr()\n",
    "print(corrM)"
   ],
   "metadata": {
    "collapsed": false,
    "pycharm": {
     "name": "#%%\n"
    }
   }
  },
  {
   "cell_type": "code",
   "execution_count": 13,
   "metadata": {},
   "outputs": [],
   "source": [
    "# the age groups we decide we call 'young'\n",
    "young = ['age_10_14',\n",
    "'age_15_19',\n",
    "'age_20_24',\n",
    "'age_25_29',\n",
    "'age_30_34',\n",
    "'age_35_39',\n",
    "'age_40_44', 'age_45_49']\n",
    "\n",
    "# in this column, true means young, false means old\n",
    "lbp_df['age_new'] = lbp_df['ageRange'].isin(young)"
   ]
  },
  {
   "cell_type": "code",
   "execution_count": 14,
   "metadata": {},
   "outputs": [
    {
     "output_type": "execute_result",
     "data": {
      "text/plain": [
       "          0         1         2         3         4         5         6  \\\n",
       "0  0.035583  0.044861  0.028137  0.021729  0.020874  0.022949  0.038879   \n",
       "1  0.038147  0.035339  0.023071  0.024353  0.032227  0.039795  0.047546   \n",
       "2  0.043457  0.039612  0.025696  0.024658  0.022766  0.026184  0.034790   \n",
       "3  0.028320  0.028748  0.025879  0.023804  0.023926  0.036621  0.058105   \n",
       "4  0.032288  0.032715  0.021790  0.020142  0.026733  0.038147  0.052490   \n",
       "\n",
       "          7         8         9        10        11        12        13  \\\n",
       "0  0.072021  0.107544  0.079285  0.036865  0.023804  0.020020  0.019226   \n",
       "1  0.079773  0.139465  0.063049  0.025696  0.020020  0.017090  0.019287   \n",
       "2  0.055847  0.105286  0.076172  0.044861  0.032654  0.022888  0.026794   \n",
       "3  0.101501  0.178528  0.089172  0.039978  0.023010  0.018494  0.016418   \n",
       "4  0.093018  0.148865  0.089783  0.036682  0.023926  0.015259  0.017517   \n",
       "\n",
       "         14        15        16        17   ageRange  age_new  \n",
       "0  0.022400  0.032166  0.030090  0.343567  age_10_14     True  \n",
       "1  0.023926  0.028809  0.031921  0.310486  age_10_14     True  \n",
       "2  0.024231  0.027588  0.035706  0.330811  age_10_14     True  \n",
       "3  0.017822  0.023376  0.026306  0.239990  age_10_14     True  \n",
       "4  0.023437  0.026245  0.026123  0.274841  age_10_14     True  "
      ],
      "text/html": "<div>\n<style scoped>\n    .dataframe tbody tr th:only-of-type {\n        vertical-align: middle;\n    }\n\n    .dataframe tbody tr th {\n        vertical-align: top;\n    }\n\n    .dataframe thead th {\n        text-align: right;\n    }\n</style>\n<table border=\"1\" class=\"dataframe\">\n  <thead>\n    <tr style=\"text-align: right;\">\n      <th></th>\n      <th>0</th>\n      <th>1</th>\n      <th>2</th>\n      <th>3</th>\n      <th>4</th>\n      <th>5</th>\n      <th>6</th>\n      <th>7</th>\n      <th>8</th>\n      <th>9</th>\n      <th>10</th>\n      <th>11</th>\n      <th>12</th>\n      <th>13</th>\n      <th>14</th>\n      <th>15</th>\n      <th>16</th>\n      <th>17</th>\n      <th>ageRange</th>\n      <th>age_new</th>\n    </tr>\n  </thead>\n  <tbody>\n    <tr>\n      <th>0</th>\n      <td>0.035583</td>\n      <td>0.044861</td>\n      <td>0.028137</td>\n      <td>0.021729</td>\n      <td>0.020874</td>\n      <td>0.022949</td>\n      <td>0.038879</td>\n      <td>0.072021</td>\n      <td>0.107544</td>\n      <td>0.079285</td>\n      <td>0.036865</td>\n      <td>0.023804</td>\n      <td>0.020020</td>\n      <td>0.019226</td>\n      <td>0.022400</td>\n      <td>0.032166</td>\n      <td>0.030090</td>\n      <td>0.343567</td>\n      <td>age_10_14</td>\n      <td>True</td>\n    </tr>\n    <tr>\n      <th>1</th>\n      <td>0.038147</td>\n      <td>0.035339</td>\n      <td>0.023071</td>\n      <td>0.024353</td>\n      <td>0.032227</td>\n      <td>0.039795</td>\n      <td>0.047546</td>\n      <td>0.079773</td>\n      <td>0.139465</td>\n      <td>0.063049</td>\n      <td>0.025696</td>\n      <td>0.020020</td>\n      <td>0.017090</td>\n      <td>0.019287</td>\n      <td>0.023926</td>\n      <td>0.028809</td>\n      <td>0.031921</td>\n      <td>0.310486</td>\n      <td>age_10_14</td>\n      <td>True</td>\n    </tr>\n    <tr>\n      <th>2</th>\n      <td>0.043457</td>\n      <td>0.039612</td>\n      <td>0.025696</td>\n      <td>0.024658</td>\n      <td>0.022766</td>\n      <td>0.026184</td>\n      <td>0.034790</td>\n      <td>0.055847</td>\n      <td>0.105286</td>\n      <td>0.076172</td>\n      <td>0.044861</td>\n      <td>0.032654</td>\n      <td>0.022888</td>\n      <td>0.026794</td>\n      <td>0.024231</td>\n      <td>0.027588</td>\n      <td>0.035706</td>\n      <td>0.330811</td>\n      <td>age_10_14</td>\n      <td>True</td>\n    </tr>\n    <tr>\n      <th>3</th>\n      <td>0.028320</td>\n      <td>0.028748</td>\n      <td>0.025879</td>\n      <td>0.023804</td>\n      <td>0.023926</td>\n      <td>0.036621</td>\n      <td>0.058105</td>\n      <td>0.101501</td>\n      <td>0.178528</td>\n      <td>0.089172</td>\n      <td>0.039978</td>\n      <td>0.023010</td>\n      <td>0.018494</td>\n      <td>0.016418</td>\n      <td>0.017822</td>\n      <td>0.023376</td>\n      <td>0.026306</td>\n      <td>0.239990</td>\n      <td>age_10_14</td>\n      <td>True</td>\n    </tr>\n    <tr>\n      <th>4</th>\n      <td>0.032288</td>\n      <td>0.032715</td>\n      <td>0.021790</td>\n      <td>0.020142</td>\n      <td>0.026733</td>\n      <td>0.038147</td>\n      <td>0.052490</td>\n      <td>0.093018</td>\n      <td>0.148865</td>\n      <td>0.089783</td>\n      <td>0.036682</td>\n      <td>0.023926</td>\n      <td>0.015259</td>\n      <td>0.017517</td>\n      <td>0.023437</td>\n      <td>0.026245</td>\n      <td>0.026123</td>\n      <td>0.274841</td>\n      <td>age_10_14</td>\n      <td>True</td>\n    </tr>\n  </tbody>\n</table>\n</div>"
     },
     "metadata": {},
     "execution_count": 14
    }
   ],
   "source": [
    "lbp_df.head()"
   ]
  },
  {
   "cell_type": "code",
   "execution_count": 17,
   "outputs": [
    {
     "output_type": "execute_result",
     "data": {
      "text/plain": [
       "          0         1         2         3         4         5         6  \\\n",
       "0  0.038391  0.036987  0.027405  0.026794  0.027039  0.033203  0.046875   \n",
       "1  0.042480  0.043518  0.036743  0.025818  0.021912  0.024109  0.034241   \n",
       "2  0.032898  0.035339  0.029114  0.027832  0.029541  0.034912  0.045105   \n",
       "3  0.032471  0.036255  0.028137  0.026001  0.023987  0.029114  0.041748   \n",
       "4  0.029236  0.028564  0.026978  0.028564  0.029724  0.035156  0.049500   \n",
       "\n",
       "          7         8         9        10        11        12        13  \\\n",
       "0  0.078125  0.098999  0.066101  0.036316  0.024658  0.016418  0.018372   \n",
       "1  0.061890  0.100525  0.056519  0.024780  0.018372  0.015076  0.020142   \n",
       "2  0.079712  0.120850  0.073547  0.030701  0.025574  0.019470  0.026184   \n",
       "3  0.079529  0.131348  0.083069  0.032471  0.028442  0.021118  0.025818   \n",
       "4  0.078735  0.120239  0.089722  0.045715  0.031677  0.023010  0.021240   \n",
       "\n",
       "         14        15        16        17   ageRange  age_new  \n",
       "0  0.021606  0.033142  0.030273  0.339294  age_30_34     True  \n",
       "1  0.027710  0.040466  0.032898  0.372803  age_50_54    False  \n",
       "2  0.027466  0.029175  0.029724  0.302856  age_20_24     True  \n",
       "3  0.022156  0.023437  0.028992  0.305908  age_45_49     True  \n",
       "4  0.023132  0.023865  0.024963  0.289978  age_25_29     True  "
      ],
      "text/html": "<div>\n<style scoped>\n    .dataframe tbody tr th:only-of-type {\n        vertical-align: middle;\n    }\n\n    .dataframe tbody tr th {\n        vertical-align: top;\n    }\n\n    .dataframe thead th {\n        text-align: right;\n    }\n</style>\n<table border=\"1\" class=\"dataframe\">\n  <thead>\n    <tr style=\"text-align: right;\">\n      <th></th>\n      <th>0</th>\n      <th>1</th>\n      <th>2</th>\n      <th>3</th>\n      <th>4</th>\n      <th>5</th>\n      <th>6</th>\n      <th>7</th>\n      <th>8</th>\n      <th>9</th>\n      <th>10</th>\n      <th>11</th>\n      <th>12</th>\n      <th>13</th>\n      <th>14</th>\n      <th>15</th>\n      <th>16</th>\n      <th>17</th>\n      <th>ageRange</th>\n      <th>age_new</th>\n    </tr>\n  </thead>\n  <tbody>\n    <tr>\n      <th>0</th>\n      <td>0.038391</td>\n      <td>0.036987</td>\n      <td>0.027405</td>\n      <td>0.026794</td>\n      <td>0.027039</td>\n      <td>0.033203</td>\n      <td>0.046875</td>\n      <td>0.078125</td>\n      <td>0.098999</td>\n      <td>0.066101</td>\n      <td>0.036316</td>\n      <td>0.024658</td>\n      <td>0.016418</td>\n      <td>0.018372</td>\n      <td>0.021606</td>\n      <td>0.033142</td>\n      <td>0.030273</td>\n      <td>0.339294</td>\n      <td>age_30_34</td>\n      <td>True</td>\n    </tr>\n    <tr>\n      <th>1</th>\n      <td>0.042480</td>\n      <td>0.043518</td>\n      <td>0.036743</td>\n      <td>0.025818</td>\n      <td>0.021912</td>\n      <td>0.024109</td>\n      <td>0.034241</td>\n      <td>0.061890</td>\n      <td>0.100525</td>\n      <td>0.056519</td>\n      <td>0.024780</td>\n      <td>0.018372</td>\n      <td>0.015076</td>\n      <td>0.020142</td>\n      <td>0.027710</td>\n      <td>0.040466</td>\n      <td>0.032898</td>\n      <td>0.372803</td>\n      <td>age_50_54</td>\n      <td>False</td>\n    </tr>\n    <tr>\n      <th>2</th>\n      <td>0.032898</td>\n      <td>0.035339</td>\n      <td>0.029114</td>\n      <td>0.027832</td>\n      <td>0.029541</td>\n      <td>0.034912</td>\n      <td>0.045105</td>\n      <td>0.079712</td>\n      <td>0.120850</td>\n      <td>0.073547</td>\n      <td>0.030701</td>\n      <td>0.025574</td>\n      <td>0.019470</td>\n      <td>0.026184</td>\n      <td>0.027466</td>\n      <td>0.029175</td>\n      <td>0.029724</td>\n      <td>0.302856</td>\n      <td>age_20_24</td>\n      <td>True</td>\n    </tr>\n    <tr>\n      <th>3</th>\n      <td>0.032471</td>\n      <td>0.036255</td>\n      <td>0.028137</td>\n      <td>0.026001</td>\n      <td>0.023987</td>\n      <td>0.029114</td>\n      <td>0.041748</td>\n      <td>0.079529</td>\n      <td>0.131348</td>\n      <td>0.083069</td>\n      <td>0.032471</td>\n      <td>0.028442</td>\n      <td>0.021118</td>\n      <td>0.025818</td>\n      <td>0.022156</td>\n      <td>0.023437</td>\n      <td>0.028992</td>\n      <td>0.305908</td>\n      <td>age_45_49</td>\n      <td>True</td>\n    </tr>\n    <tr>\n      <th>4</th>\n      <td>0.029236</td>\n      <td>0.028564</td>\n      <td>0.026978</td>\n      <td>0.028564</td>\n      <td>0.029724</td>\n      <td>0.035156</td>\n      <td>0.049500</td>\n      <td>0.078735</td>\n      <td>0.120239</td>\n      <td>0.089722</td>\n      <td>0.045715</td>\n      <td>0.031677</td>\n      <td>0.023010</td>\n      <td>0.021240</td>\n      <td>0.023132</td>\n      <td>0.023865</td>\n      <td>0.024963</td>\n      <td>0.289978</td>\n      <td>age_25_29</td>\n      <td>True</td>\n    </tr>\n  </tbody>\n</table>\n</div>"
     },
     "metadata": {},
     "execution_count": 17
    }
   ],
   "source": [
    "# randomize the df so that old and young are mixed\n",
    "random_df = lbp_df.sample(frac=1).reset_index(drop=True)\n",
    "random_df.head()"
   ],
   "metadata": {
    "collapsed": false,
    "pycharm": {
     "name": "#%%\n"
    }
   }
  },
  {
   "cell_type": "code",
   "execution_count": 18,
   "outputs": [],
   "source": [
    "\n",
    "X = random_df.drop(['ageRange','age_new'], axis=1)\n",
    "y = random_df['age_new']"
   ],
   "metadata": {
    "collapsed": false,
    "pycharm": {
     "name": "#%%\n"
    }
   }
  },
  {
   "cell_type": "code",
   "execution_count": 19,
   "outputs": [],
   "source": [
    "from sklearn.model_selection import train_test_split\n",
    "X_train, X_test, y_train, y_test = train_test_split(X,y,test_size=0.2, random_state=7)"
   ],
   "metadata": {
    "collapsed": false,
    "pycharm": {
     "name": "#%%\n"
    }
   }
  },
  {
   "cell_type": "code",
   "execution_count": 20,
   "outputs": [
    {
     "output_type": "stream",
     "name": "stderr",
     "text": [
      "100%|██████████| 49/49 [02:15<00:00,  2.76s/it]\n"
     ]
    }
   ],
   "source": [
    "## finding the most optimal K (not using cross val scoring)\n",
    "from sklearn.neighbors import KNeighborsClassifier\n",
    "from sklearn import metrics\n",
    "\n",
    "k_range = range(1,50)\n",
    "scores = {}\n",
    "scores_list = []\n",
    "for k in tqdm(k_range):\n",
    "    knn = KNeighborsClassifier(n_neighbors=k)\n",
    "    knn.fit(X_train, y_train)\n",
    "    y_pred = knn.predict(X_test)\n",
    "    scores[k] = metrics.accuracy_score(y_test, y_pred)\n",
    "    scores_list.append(metrics.accuracy_score(y_test, y_pred))"
   ],
   "metadata": {
    "collapsed": false,
    "pycharm": {
     "name": "#%%\n"
    }
   }
  },
  {
   "cell_type": "code",
   "execution_count": 21,
   "outputs": [
    {
     "output_type": "execute_result",
     "data": {
      "text/plain": [
       "[<matplotlib.lines.Line2D at 0x1236f51c108>]"
      ]
     },
     "metadata": {},
     "execution_count": 21
    },
    {
     "output_type": "display_data",
     "data": {
      "text/plain": "<Figure size 432x288 with 1 Axes>",
      "image/svg+xml": "<?xml version=\"1.0\" encoding=\"utf-8\" standalone=\"no\"?>\r\n<!DOCTYPE svg PUBLIC \"-//W3C//DTD SVG 1.1//EN\"\r\n  \"http://www.w3.org/Graphics/SVG/1.1/DTD/svg11.dtd\">\r\n<!-- Created with matplotlib (https://matplotlib.org/) -->\r\n<svg height=\"248.518125pt\" version=\"1.1\" viewBox=\"0 0 378.465625 248.518125\" width=\"378.465625pt\" xmlns=\"http://www.w3.org/2000/svg\" xmlns:xlink=\"http://www.w3.org/1999/xlink\">\r\n <metadata>\r\n  <rdf:RDF xmlns:cc=\"http://creativecommons.org/ns#\" xmlns:dc=\"http://purl.org/dc/elements/1.1/\" xmlns:rdf=\"http://www.w3.org/1999/02/22-rdf-syntax-ns#\">\r\n   <cc:Work>\r\n    <dc:type rdf:resource=\"http://purl.org/dc/dcmitype/StillImage\"/>\r\n    <dc:date>2020-10-10T17:26:07.369835</dc:date>\r\n    <dc:format>image/svg+xml</dc:format>\r\n    <dc:creator>\r\n     <cc:Agent>\r\n      <dc:title>Matplotlib v3.3.2, https://matplotlib.org/</dc:title>\r\n     </cc:Agent>\r\n    </dc:creator>\r\n   </cc:Work>\r\n  </rdf:RDF>\r\n </metadata>\r\n <defs>\r\n  <style type=\"text/css\">*{stroke-linecap:butt;stroke-linejoin:round;}</style>\r\n </defs>\r\n <g id=\"figure_1\">\r\n  <g id=\"patch_1\">\r\n   <path d=\"M 0 248.518125 \r\nL 378.465625 248.518125 \r\nL 378.465625 0 \r\nL 0 0 \r\nz\r\n\" style=\"fill:none;\"/>\r\n  </g>\r\n  <g id=\"axes_1\">\r\n   <g id=\"patch_2\">\r\n    <path d=\"M 36.465625 224.64 \r\nL 371.265625 224.64 \r\nL 371.265625 7.2 \r\nL 36.465625 7.2 \r\nz\r\n\" style=\"fill:#ffffff;\"/>\r\n   </g>\r\n   <g id=\"matplotlib.axis_1\">\r\n    <g id=\"xtick_1\">\r\n     <g id=\"line2d_1\">\r\n      <defs>\r\n       <path d=\"M 0 0 \r\nL 0 3.5 \r\n\" id=\"m11d6488500\" style=\"stroke:#000000;stroke-width:0.8;\"/>\r\n      </defs>\r\n      <g>\r\n       <use style=\"stroke:#000000;stroke-width:0.8;\" x=\"45.342898\" xlink:href=\"#m11d6488500\" y=\"224.64\"/>\r\n      </g>\r\n     </g>\r\n     <g id=\"text_1\">\r\n      <!-- 0 -->\r\n      <g transform=\"translate(42.161648 239.238438)scale(0.1 -0.1)\">\r\n       <defs>\r\n        <path d=\"M 31.78125 66.40625 \r\nQ 24.171875 66.40625 20.328125 58.90625 \r\nQ 16.5 51.421875 16.5 36.375 \r\nQ 16.5 21.390625 20.328125 13.890625 \r\nQ 24.171875 6.390625 31.78125 6.390625 \r\nQ 39.453125 6.390625 43.28125 13.890625 \r\nQ 47.125 21.390625 47.125 36.375 \r\nQ 47.125 51.421875 43.28125 58.90625 \r\nQ 39.453125 66.40625 31.78125 66.40625 \r\nz\r\nM 31.78125 74.21875 \r\nQ 44.046875 74.21875 50.515625 64.515625 \r\nQ 56.984375 54.828125 56.984375 36.375 \r\nQ 56.984375 17.96875 50.515625 8.265625 \r\nQ 44.046875 -1.421875 31.78125 -1.421875 \r\nQ 19.53125 -1.421875 13.0625 8.265625 \r\nQ 6.59375 17.96875 6.59375 36.375 \r\nQ 6.59375 54.828125 13.0625 64.515625 \r\nQ 19.53125 74.21875 31.78125 74.21875 \r\nz\r\n\" id=\"DejaVuSans-48\"/>\r\n       </defs>\r\n       <use xlink:href=\"#DejaVuSans-48\"/>\r\n      </g>\r\n     </g>\r\n    </g>\r\n    <g id=\"xtick_2\">\r\n     <g id=\"line2d_2\">\r\n      <g>\r\n       <use style=\"stroke:#000000;stroke-width:0.8;\" x=\"108.751989\" xlink:href=\"#m11d6488500\" y=\"224.64\"/>\r\n      </g>\r\n     </g>\r\n     <g id=\"text_2\">\r\n      <!-- 10 -->\r\n      <g transform=\"translate(102.389489 239.238438)scale(0.1 -0.1)\">\r\n       <defs>\r\n        <path d=\"M 12.40625 8.296875 \r\nL 28.515625 8.296875 \r\nL 28.515625 63.921875 \r\nL 10.984375 60.40625 \r\nL 10.984375 69.390625 \r\nL 28.421875 72.90625 \r\nL 38.28125 72.90625 \r\nL 38.28125 8.296875 \r\nL 54.390625 8.296875 \r\nL 54.390625 0 \r\nL 12.40625 0 \r\nz\r\n\" id=\"DejaVuSans-49\"/>\r\n       </defs>\r\n       <use xlink:href=\"#DejaVuSans-49\"/>\r\n       <use x=\"63.623047\" xlink:href=\"#DejaVuSans-48\"/>\r\n      </g>\r\n     </g>\r\n    </g>\r\n    <g id=\"xtick_3\">\r\n     <g id=\"line2d_3\">\r\n      <g>\r\n       <use style=\"stroke:#000000;stroke-width:0.8;\" x=\"172.16108\" xlink:href=\"#m11d6488500\" y=\"224.64\"/>\r\n      </g>\r\n     </g>\r\n     <g id=\"text_3\">\r\n      <!-- 20 -->\r\n      <g transform=\"translate(165.79858 239.238438)scale(0.1 -0.1)\">\r\n       <defs>\r\n        <path d=\"M 19.1875 8.296875 \r\nL 53.609375 8.296875 \r\nL 53.609375 0 \r\nL 7.328125 0 \r\nL 7.328125 8.296875 \r\nQ 12.9375 14.109375 22.625 23.890625 \r\nQ 32.328125 33.6875 34.8125 36.53125 \r\nQ 39.546875 41.84375 41.421875 45.53125 \r\nQ 43.3125 49.21875 43.3125 52.78125 \r\nQ 43.3125 58.59375 39.234375 62.25 \r\nQ 35.15625 65.921875 28.609375 65.921875 \r\nQ 23.96875 65.921875 18.8125 64.3125 \r\nQ 13.671875 62.703125 7.8125 59.421875 \r\nL 7.8125 69.390625 \r\nQ 13.765625 71.78125 18.9375 73 \r\nQ 24.125 74.21875 28.421875 74.21875 \r\nQ 39.75 74.21875 46.484375 68.546875 \r\nQ 53.21875 62.890625 53.21875 53.421875 \r\nQ 53.21875 48.921875 51.53125 44.890625 \r\nQ 49.859375 40.875 45.40625 35.40625 \r\nQ 44.1875 33.984375 37.640625 27.21875 \r\nQ 31.109375 20.453125 19.1875 8.296875 \r\nz\r\n\" id=\"DejaVuSans-50\"/>\r\n       </defs>\r\n       <use xlink:href=\"#DejaVuSans-50\"/>\r\n       <use x=\"63.623047\" xlink:href=\"#DejaVuSans-48\"/>\r\n      </g>\r\n     </g>\r\n    </g>\r\n    <g id=\"xtick_4\">\r\n     <g id=\"line2d_4\">\r\n      <g>\r\n       <use style=\"stroke:#000000;stroke-width:0.8;\" x=\"235.57017\" xlink:href=\"#m11d6488500\" y=\"224.64\"/>\r\n      </g>\r\n     </g>\r\n     <g id=\"text_4\">\r\n      <!-- 30 -->\r\n      <g transform=\"translate(229.20767 239.238438)scale(0.1 -0.1)\">\r\n       <defs>\r\n        <path d=\"M 40.578125 39.3125 \r\nQ 47.65625 37.796875 51.625 33 \r\nQ 55.609375 28.21875 55.609375 21.1875 \r\nQ 55.609375 10.40625 48.1875 4.484375 \r\nQ 40.765625 -1.421875 27.09375 -1.421875 \r\nQ 22.515625 -1.421875 17.65625 -0.515625 \r\nQ 12.796875 0.390625 7.625 2.203125 \r\nL 7.625 11.71875 \r\nQ 11.71875 9.328125 16.59375 8.109375 \r\nQ 21.484375 6.890625 26.8125 6.890625 \r\nQ 36.078125 6.890625 40.9375 10.546875 \r\nQ 45.796875 14.203125 45.796875 21.1875 \r\nQ 45.796875 27.640625 41.28125 31.265625 \r\nQ 36.765625 34.90625 28.71875 34.90625 \r\nL 20.21875 34.90625 \r\nL 20.21875 43.015625 \r\nL 29.109375 43.015625 \r\nQ 36.375 43.015625 40.234375 45.921875 \r\nQ 44.09375 48.828125 44.09375 54.296875 \r\nQ 44.09375 59.90625 40.109375 62.90625 \r\nQ 36.140625 65.921875 28.71875 65.921875 \r\nQ 24.65625 65.921875 20.015625 65.03125 \r\nQ 15.375 64.15625 9.8125 62.3125 \r\nL 9.8125 71.09375 \r\nQ 15.4375 72.65625 20.34375 73.4375 \r\nQ 25.25 74.21875 29.59375 74.21875 \r\nQ 40.828125 74.21875 47.359375 69.109375 \r\nQ 53.90625 64.015625 53.90625 55.328125 \r\nQ 53.90625 49.265625 50.4375 45.09375 \r\nQ 46.96875 40.921875 40.578125 39.3125 \r\nz\r\n\" id=\"DejaVuSans-51\"/>\r\n       </defs>\r\n       <use xlink:href=\"#DejaVuSans-51\"/>\r\n       <use x=\"63.623047\" xlink:href=\"#DejaVuSans-48\"/>\r\n      </g>\r\n     </g>\r\n    </g>\r\n    <g id=\"xtick_5\">\r\n     <g id=\"line2d_5\">\r\n      <g>\r\n       <use style=\"stroke:#000000;stroke-width:0.8;\" x=\"298.979261\" xlink:href=\"#m11d6488500\" y=\"224.64\"/>\r\n      </g>\r\n     </g>\r\n     <g id=\"text_5\">\r\n      <!-- 40 -->\r\n      <g transform=\"translate(292.616761 239.238438)scale(0.1 -0.1)\">\r\n       <defs>\r\n        <path d=\"M 37.796875 64.3125 \r\nL 12.890625 25.390625 \r\nL 37.796875 25.390625 \r\nz\r\nM 35.203125 72.90625 \r\nL 47.609375 72.90625 \r\nL 47.609375 25.390625 \r\nL 58.015625 25.390625 \r\nL 58.015625 17.1875 \r\nL 47.609375 17.1875 \r\nL 47.609375 0 \r\nL 37.796875 0 \r\nL 37.796875 17.1875 \r\nL 4.890625 17.1875 \r\nL 4.890625 26.703125 \r\nz\r\n\" id=\"DejaVuSans-52\"/>\r\n       </defs>\r\n       <use xlink:href=\"#DejaVuSans-52\"/>\r\n       <use x=\"63.623047\" xlink:href=\"#DejaVuSans-48\"/>\r\n      </g>\r\n     </g>\r\n    </g>\r\n    <g id=\"xtick_6\">\r\n     <g id=\"line2d_6\">\r\n      <g>\r\n       <use style=\"stroke:#000000;stroke-width:0.8;\" x=\"362.388352\" xlink:href=\"#m11d6488500\" y=\"224.64\"/>\r\n      </g>\r\n     </g>\r\n     <g id=\"text_6\">\r\n      <!-- 50 -->\r\n      <g transform=\"translate(356.025852 239.238438)scale(0.1 -0.1)\">\r\n       <defs>\r\n        <path d=\"M 10.796875 72.90625 \r\nL 49.515625 72.90625 \r\nL 49.515625 64.59375 \r\nL 19.828125 64.59375 \r\nL 19.828125 46.734375 \r\nQ 21.96875 47.46875 24.109375 47.828125 \r\nQ 26.265625 48.1875 28.421875 48.1875 \r\nQ 40.625 48.1875 47.75 41.5 \r\nQ 54.890625 34.8125 54.890625 23.390625 \r\nQ 54.890625 11.625 47.5625 5.09375 \r\nQ 40.234375 -1.421875 26.90625 -1.421875 \r\nQ 22.3125 -1.421875 17.546875 -0.640625 \r\nQ 12.796875 0.140625 7.71875 1.703125 \r\nL 7.71875 11.625 \r\nQ 12.109375 9.234375 16.796875 8.0625 \r\nQ 21.484375 6.890625 26.703125 6.890625 \r\nQ 35.15625 6.890625 40.078125 11.328125 \r\nQ 45.015625 15.765625 45.015625 23.390625 \r\nQ 45.015625 31 40.078125 35.4375 \r\nQ 35.15625 39.890625 26.703125 39.890625 \r\nQ 22.75 39.890625 18.8125 39.015625 \r\nQ 14.890625 38.140625 10.796875 36.28125 \r\nz\r\n\" id=\"DejaVuSans-53\"/>\r\n       </defs>\r\n       <use xlink:href=\"#DejaVuSans-53\"/>\r\n       <use x=\"63.623047\" xlink:href=\"#DejaVuSans-48\"/>\r\n      </g>\r\n     </g>\r\n    </g>\r\n   </g>\r\n   <g id=\"matplotlib.axis_2\">\r\n    <g id=\"ytick_1\">\r\n     <g id=\"line2d_7\">\r\n      <defs>\r\n       <path d=\"M 0 0 \r\nL -3.5 0 \r\n\" id=\"m4374e23856\" style=\"stroke:#000000;stroke-width:0.8;\"/>\r\n      </defs>\r\n      <g>\r\n       <use style=\"stroke:#000000;stroke-width:0.8;\" x=\"36.465625\" xlink:href=\"#m4374e23856\" y=\"222.5933\"/>\r\n      </g>\r\n     </g>\r\n     <g id=\"text_7\">\r\n      <!-- 0.81 -->\r\n      <g transform=\"translate(7.2 226.392519)scale(0.1 -0.1)\">\r\n       <defs>\r\n        <path d=\"M 10.6875 12.40625 \r\nL 21 12.40625 \r\nL 21 0 \r\nL 10.6875 0 \r\nz\r\n\" id=\"DejaVuSans-46\"/>\r\n        <path d=\"M 31.78125 34.625 \r\nQ 24.75 34.625 20.71875 30.859375 \r\nQ 16.703125 27.09375 16.703125 20.515625 \r\nQ 16.703125 13.921875 20.71875 10.15625 \r\nQ 24.75 6.390625 31.78125 6.390625 \r\nQ 38.8125 6.390625 42.859375 10.171875 \r\nQ 46.921875 13.96875 46.921875 20.515625 \r\nQ 46.921875 27.09375 42.890625 30.859375 \r\nQ 38.875 34.625 31.78125 34.625 \r\nz\r\nM 21.921875 38.8125 \r\nQ 15.578125 40.375 12.03125 44.71875 \r\nQ 8.5 49.078125 8.5 55.328125 \r\nQ 8.5 64.0625 14.71875 69.140625 \r\nQ 20.953125 74.21875 31.78125 74.21875 \r\nQ 42.671875 74.21875 48.875 69.140625 \r\nQ 55.078125 64.0625 55.078125 55.328125 \r\nQ 55.078125 49.078125 51.53125 44.71875 \r\nQ 48 40.375 41.703125 38.8125 \r\nQ 48.828125 37.15625 52.796875 32.3125 \r\nQ 56.78125 27.484375 56.78125 20.515625 \r\nQ 56.78125 9.90625 50.3125 4.234375 \r\nQ 43.84375 -1.421875 31.78125 -1.421875 \r\nQ 19.734375 -1.421875 13.25 4.234375 \r\nQ 6.78125 9.90625 6.78125 20.515625 \r\nQ 6.78125 27.484375 10.78125 32.3125 \r\nQ 14.796875 37.15625 21.921875 38.8125 \r\nz\r\nM 18.3125 54.390625 \r\nQ 18.3125 48.734375 21.84375 45.5625 \r\nQ 25.390625 42.390625 31.78125 42.390625 \r\nQ 38.140625 42.390625 41.71875 45.5625 \r\nQ 45.3125 48.734375 45.3125 54.390625 \r\nQ 45.3125 60.0625 41.71875 63.234375 \r\nQ 38.140625 66.40625 31.78125 66.40625 \r\nQ 25.390625 66.40625 21.84375 63.234375 \r\nQ 18.3125 60.0625 18.3125 54.390625 \r\nz\r\n\" id=\"DejaVuSans-56\"/>\r\n       </defs>\r\n       <use xlink:href=\"#DejaVuSans-48\"/>\r\n       <use x=\"63.623047\" xlink:href=\"#DejaVuSans-46\"/>\r\n       <use x=\"95.410156\" xlink:href=\"#DejaVuSans-56\"/>\r\n       <use x=\"159.033203\" xlink:href=\"#DejaVuSans-49\"/>\r\n      </g>\r\n     </g>\r\n    </g>\r\n    <g id=\"ytick_2\">\r\n     <g id=\"line2d_8\">\r\n      <g>\r\n       <use style=\"stroke:#000000;stroke-width:0.8;\" x=\"36.465625\" xlink:href=\"#m4374e23856\" y=\"197.193229\"/>\r\n      </g>\r\n     </g>\r\n     <g id=\"text_8\">\r\n      <!-- 0.82 -->\r\n      <g transform=\"translate(7.2 200.992448)scale(0.1 -0.1)\">\r\n       <use xlink:href=\"#DejaVuSans-48\"/>\r\n       <use x=\"63.623047\" xlink:href=\"#DejaVuSans-46\"/>\r\n       <use x=\"95.410156\" xlink:href=\"#DejaVuSans-56\"/>\r\n       <use x=\"159.033203\" xlink:href=\"#DejaVuSans-50\"/>\r\n      </g>\r\n     </g>\r\n    </g>\r\n    <g id=\"ytick_3\">\r\n     <g id=\"line2d_9\">\r\n      <g>\r\n       <use style=\"stroke:#000000;stroke-width:0.8;\" x=\"36.465625\" xlink:href=\"#m4374e23856\" y=\"171.793158\"/>\r\n      </g>\r\n     </g>\r\n     <g id=\"text_9\">\r\n      <!-- 0.83 -->\r\n      <g transform=\"translate(7.2 175.592377)scale(0.1 -0.1)\">\r\n       <use xlink:href=\"#DejaVuSans-48\"/>\r\n       <use x=\"63.623047\" xlink:href=\"#DejaVuSans-46\"/>\r\n       <use x=\"95.410156\" xlink:href=\"#DejaVuSans-56\"/>\r\n       <use x=\"159.033203\" xlink:href=\"#DejaVuSans-51\"/>\r\n      </g>\r\n     </g>\r\n    </g>\r\n    <g id=\"ytick_4\">\r\n     <g id=\"line2d_10\">\r\n      <g>\r\n       <use style=\"stroke:#000000;stroke-width:0.8;\" x=\"36.465625\" xlink:href=\"#m4374e23856\" y=\"146.393088\"/>\r\n      </g>\r\n     </g>\r\n     <g id=\"text_10\">\r\n      <!-- 0.84 -->\r\n      <g transform=\"translate(7.2 150.192306)scale(0.1 -0.1)\">\r\n       <use xlink:href=\"#DejaVuSans-48\"/>\r\n       <use x=\"63.623047\" xlink:href=\"#DejaVuSans-46\"/>\r\n       <use x=\"95.410156\" xlink:href=\"#DejaVuSans-56\"/>\r\n       <use x=\"159.033203\" xlink:href=\"#DejaVuSans-52\"/>\r\n      </g>\r\n     </g>\r\n    </g>\r\n    <g id=\"ytick_5\">\r\n     <g id=\"line2d_11\">\r\n      <g>\r\n       <use style=\"stroke:#000000;stroke-width:0.8;\" x=\"36.465625\" xlink:href=\"#m4374e23856\" y=\"120.993017\"/>\r\n      </g>\r\n     </g>\r\n     <g id=\"text_11\">\r\n      <!-- 0.85 -->\r\n      <g transform=\"translate(7.2 124.792236)scale(0.1 -0.1)\">\r\n       <use xlink:href=\"#DejaVuSans-48\"/>\r\n       <use x=\"63.623047\" xlink:href=\"#DejaVuSans-46\"/>\r\n       <use x=\"95.410156\" xlink:href=\"#DejaVuSans-56\"/>\r\n       <use x=\"159.033203\" xlink:href=\"#DejaVuSans-53\"/>\r\n      </g>\r\n     </g>\r\n    </g>\r\n    <g id=\"ytick_6\">\r\n     <g id=\"line2d_12\">\r\n      <g>\r\n       <use style=\"stroke:#000000;stroke-width:0.8;\" x=\"36.465625\" xlink:href=\"#m4374e23856\" y=\"95.592946\"/>\r\n      </g>\r\n     </g>\r\n     <g id=\"text_12\">\r\n      <!-- 0.86 -->\r\n      <g transform=\"translate(7.2 99.392165)scale(0.1 -0.1)\">\r\n       <defs>\r\n        <path d=\"M 33.015625 40.375 \r\nQ 26.375 40.375 22.484375 35.828125 \r\nQ 18.609375 31.296875 18.609375 23.390625 \r\nQ 18.609375 15.53125 22.484375 10.953125 \r\nQ 26.375 6.390625 33.015625 6.390625 \r\nQ 39.65625 6.390625 43.53125 10.953125 \r\nQ 47.40625 15.53125 47.40625 23.390625 \r\nQ 47.40625 31.296875 43.53125 35.828125 \r\nQ 39.65625 40.375 33.015625 40.375 \r\nz\r\nM 52.59375 71.296875 \r\nL 52.59375 62.3125 \r\nQ 48.875 64.0625 45.09375 64.984375 \r\nQ 41.3125 65.921875 37.59375 65.921875 \r\nQ 27.828125 65.921875 22.671875 59.328125 \r\nQ 17.53125 52.734375 16.796875 39.40625 \r\nQ 19.671875 43.65625 24.015625 45.921875 \r\nQ 28.375 48.1875 33.59375 48.1875 \r\nQ 44.578125 48.1875 50.953125 41.515625 \r\nQ 57.328125 34.859375 57.328125 23.390625 \r\nQ 57.328125 12.15625 50.6875 5.359375 \r\nQ 44.046875 -1.421875 33.015625 -1.421875 \r\nQ 20.359375 -1.421875 13.671875 8.265625 \r\nQ 6.984375 17.96875 6.984375 36.375 \r\nQ 6.984375 53.65625 15.1875 63.9375 \r\nQ 23.390625 74.21875 37.203125 74.21875 \r\nQ 40.921875 74.21875 44.703125 73.484375 \r\nQ 48.484375 72.75 52.59375 71.296875 \r\nz\r\n\" id=\"DejaVuSans-54\"/>\r\n       </defs>\r\n       <use xlink:href=\"#DejaVuSans-48\"/>\r\n       <use x=\"63.623047\" xlink:href=\"#DejaVuSans-46\"/>\r\n       <use x=\"95.410156\" xlink:href=\"#DejaVuSans-56\"/>\r\n       <use x=\"159.033203\" xlink:href=\"#DejaVuSans-54\"/>\r\n      </g>\r\n     </g>\r\n    </g>\r\n    <g id=\"ytick_7\">\r\n     <g id=\"line2d_13\">\r\n      <g>\r\n       <use style=\"stroke:#000000;stroke-width:0.8;\" x=\"36.465625\" xlink:href=\"#m4374e23856\" y=\"70.192875\"/>\r\n      </g>\r\n     </g>\r\n     <g id=\"text_13\">\r\n      <!-- 0.87 -->\r\n      <g transform=\"translate(7.2 73.992094)scale(0.1 -0.1)\">\r\n       <defs>\r\n        <path d=\"M 8.203125 72.90625 \r\nL 55.078125 72.90625 \r\nL 55.078125 68.703125 \r\nL 28.609375 0 \r\nL 18.3125 0 \r\nL 43.21875 64.59375 \r\nL 8.203125 64.59375 \r\nz\r\n\" id=\"DejaVuSans-55\"/>\r\n       </defs>\r\n       <use xlink:href=\"#DejaVuSans-48\"/>\r\n       <use x=\"63.623047\" xlink:href=\"#DejaVuSans-46\"/>\r\n       <use x=\"95.410156\" xlink:href=\"#DejaVuSans-56\"/>\r\n       <use x=\"159.033203\" xlink:href=\"#DejaVuSans-55\"/>\r\n      </g>\r\n     </g>\r\n    </g>\r\n    <g id=\"ytick_8\">\r\n     <g id=\"line2d_14\">\r\n      <g>\r\n       <use style=\"stroke:#000000;stroke-width:0.8;\" x=\"36.465625\" xlink:href=\"#m4374e23856\" y=\"44.792805\"/>\r\n      </g>\r\n     </g>\r\n     <g id=\"text_14\">\r\n      <!-- 0.88 -->\r\n      <g transform=\"translate(7.2 48.592023)scale(0.1 -0.1)\">\r\n       <use xlink:href=\"#DejaVuSans-48\"/>\r\n       <use x=\"63.623047\" xlink:href=\"#DejaVuSans-46\"/>\r\n       <use x=\"95.410156\" xlink:href=\"#DejaVuSans-56\"/>\r\n       <use x=\"159.033203\" xlink:href=\"#DejaVuSans-56\"/>\r\n      </g>\r\n     </g>\r\n    </g>\r\n    <g id=\"ytick_9\">\r\n     <g id=\"line2d_15\">\r\n      <g>\r\n       <use style=\"stroke:#000000;stroke-width:0.8;\" x=\"36.465625\" xlink:href=\"#m4374e23856\" y=\"19.392734\"/>\r\n      </g>\r\n     </g>\r\n     <g id=\"text_15\">\r\n      <!-- 0.89 -->\r\n      <g transform=\"translate(7.2 23.191952)scale(0.1 -0.1)\">\r\n       <defs>\r\n        <path d=\"M 10.984375 1.515625 \r\nL 10.984375 10.5 \r\nQ 14.703125 8.734375 18.5 7.8125 \r\nQ 22.3125 6.890625 25.984375 6.890625 \r\nQ 35.75 6.890625 40.890625 13.453125 \r\nQ 46.046875 20.015625 46.78125 33.40625 \r\nQ 43.953125 29.203125 39.59375 26.953125 \r\nQ 35.25 24.703125 29.984375 24.703125 \r\nQ 19.046875 24.703125 12.671875 31.3125 \r\nQ 6.296875 37.9375 6.296875 49.421875 \r\nQ 6.296875 60.640625 12.9375 67.421875 \r\nQ 19.578125 74.21875 30.609375 74.21875 \r\nQ 43.265625 74.21875 49.921875 64.515625 \r\nQ 56.59375 54.828125 56.59375 36.375 \r\nQ 56.59375 19.140625 48.40625 8.859375 \r\nQ 40.234375 -1.421875 26.421875 -1.421875 \r\nQ 22.703125 -1.421875 18.890625 -0.6875 \r\nQ 15.09375 0.046875 10.984375 1.515625 \r\nz\r\nM 30.609375 32.421875 \r\nQ 37.25 32.421875 41.125 36.953125 \r\nQ 45.015625 41.5 45.015625 49.421875 \r\nQ 45.015625 57.28125 41.125 61.84375 \r\nQ 37.25 66.40625 30.609375 66.40625 \r\nQ 23.96875 66.40625 20.09375 61.84375 \r\nQ 16.21875 57.28125 16.21875 49.421875 \r\nQ 16.21875 41.5 20.09375 36.953125 \r\nQ 23.96875 32.421875 30.609375 32.421875 \r\nz\r\n\" id=\"DejaVuSans-57\"/>\r\n       </defs>\r\n       <use xlink:href=\"#DejaVuSans-48\"/>\r\n       <use x=\"63.623047\" xlink:href=\"#DejaVuSans-46\"/>\r\n       <use x=\"95.410156\" xlink:href=\"#DejaVuSans-56\"/>\r\n       <use x=\"159.033203\" xlink:href=\"#DejaVuSans-57\"/>\r\n      </g>\r\n     </g>\r\n    </g>\r\n   </g>\r\n   <g id=\"line2d_16\">\r\n    <path clip-path=\"url(#pc6b92ab2d3)\" d=\"M 51.683807 120.29329 \r\nL 58.024716 214.756364 \r\nL 64.365625 52.769686 \r\nL 70.706534 83.907514 \r\nL 77.047443 38.775157 \r\nL 83.388352 55.568592 \r\nL 89.729261 32.127755 \r\nL 96.07017 40.874336 \r\nL 102.41108 20.932132 \r\nL 108.751989 29.678713 \r\nL 115.092898 17.083636 \r\nL 121.433807 23.731038 \r\nL 127.774716 19.882542 \r\nL 134.115625 21.981722 \r\nL 140.456534 23.031311 \r\nL 146.797443 23.031311 \r\nL 153.138352 20.932132 \r\nL 159.479261 19.532679 \r\nL 165.82017 18.832953 \r\nL 172.16108 21.631858 \r\nL 178.501989 22.331585 \r\nL 184.842898 21.631858 \r\nL 191.183807 23.731038 \r\nL 197.524716 20.582269 \r\nL 203.865625 22.331585 \r\nL 210.206534 22.681448 \r\nL 216.547443 19.882542 \r\nL 222.888352 21.981722 \r\nL 229.229261 20.582269 \r\nL 235.57017 21.281995 \r\nL 241.91108 18.483089 \r\nL 248.251989 20.582269 \r\nL 254.592898 21.281995 \r\nL 260.933807 22.331585 \r\nL 267.274716 19.882542 \r\nL 273.615625 21.631858 \r\nL 279.956534 21.981722 \r\nL 286.297443 21.631858 \r\nL 292.638352 20.932132 \r\nL 298.979261 21.631858 \r\nL 305.32017 22.331585 \r\nL 311.66108 22.331585 \r\nL 318.001989 21.981722 \r\nL 324.342898 21.981722 \r\nL 330.683807 21.631858 \r\nL 337.024716 19.532679 \r\nL 343.365625 20.232405 \r\nL 349.706534 19.532679 \r\nL 356.047443 19.532679 \r\n\" style=\"fill:none;stroke:#1f77b4;stroke-linecap:square;stroke-width:1.5;\"/>\r\n   </g>\r\n   <g id=\"patch_3\">\r\n    <path d=\"M 36.465625 224.64 \r\nL 36.465625 7.2 \r\n\" style=\"fill:none;stroke:#000000;stroke-linecap:square;stroke-linejoin:miter;stroke-width:0.8;\"/>\r\n   </g>\r\n   <g id=\"patch_4\">\r\n    <path d=\"M 371.265625 224.64 \r\nL 371.265625 7.2 \r\n\" style=\"fill:none;stroke:#000000;stroke-linecap:square;stroke-linejoin:miter;stroke-width:0.8;\"/>\r\n   </g>\r\n   <g id=\"patch_5\">\r\n    <path d=\"M 36.465625 224.64 \r\nL 371.265625 224.64 \r\n\" style=\"fill:none;stroke:#000000;stroke-linecap:square;stroke-linejoin:miter;stroke-width:0.8;\"/>\r\n   </g>\r\n   <g id=\"patch_6\">\r\n    <path d=\"M 36.465625 7.2 \r\nL 371.265625 7.2 \r\n\" style=\"fill:none;stroke:#000000;stroke-linecap:square;stroke-linejoin:miter;stroke-width:0.8;\"/>\r\n   </g>\r\n  </g>\r\n </g>\r\n <defs>\r\n  <clipPath id=\"pc6b92ab2d3\">\r\n   <rect height=\"217.44\" width=\"334.8\" x=\"36.465625\" y=\"7.2\"/>\r\n  </clipPath>\r\n </defs>\r\n</svg>\r\n",
      "image/png": "[encoded data removed]"
     },
     "metadata": {
      "needs_background": "light"
     }
    }
   ],
   "source": [
    "plt.plot(k_range, scores_list)"
   ],
   "metadata": {
    "collapsed": false,
    "pycharm": {
     "name": "#%%\n"
    }
   }
  },
  {
   "cell_type": "code",
   "execution_count": null,
   "outputs": [],
   "source": [
    "scores_list.index(max(scores_list))"
   ],
   "metadata": {
    "collapsed": false,
    "pycharm": {
     "name": "#%%\n"
    }
   }
  },
  {
   "cell_type": "code",
   "execution_count": null,
   "outputs": [],
   "source": [
    "# the K would be answer above +1\n",
    "scores[32]"
   ],
   "metadata": {
    "collapsed": false,
    "pycharm": {
     "name": "#%%\n"
    }
   }
  },
  {
   "cell_type": "code",
   "execution_count": null,
   "outputs": [],
   "source": [
    "# finding cross val score of most optimal K\n",
    "from sklearn.model_selection import cross_val_score\n",
    "\n",
    "cross_knn = KNeighborsClassifier(n_neighbors=32)\n",
    "\n",
    "scores = cross_val_score(cross_knn, X_train, y_train, cv=10)\n"
   ],
   "metadata": {
    "collapsed": false,
    "pycharm": {
     "name": "#%%\n"
    }
   }
  },
  {
   "cell_type": "code",
   "execution_count": null,
   "metadata": {},
   "outputs": [],
   "source": [
    "scores"
   ]
  },
  {
   "cell_type": "code",
   "execution_count": null,
   "metadata": {},
   "outputs": [],
   "source": [
    "scores.mean()"
   ]
  }
 ],
 "metadata": {
  "kernelspec": {
   "display_name": "Python 3.7.4 64-bit ('venv')",
   "language": "python",
   "name": "python37464bitvenvf24772feba9c4a17b4dcd70385d91f3e"
  },
  "language_info": {
   "codemirror_mode": {
    "name": "ipython",
    "version": 2
   },
   "file_extension": ".py",
   "mimetype": "text/x-python",
   "name": "python",
   "nbconvert_exporter": "python",
   "pygments_lexer": "ipython2",
   "version": "3.7.4-final"
  }
 },
 "nbformat": 4,
 "nbformat_minor": 0
}